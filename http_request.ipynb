{
 "cells": [
  {
   "cell_type": "code",
   "execution_count": null,
   "metadata": {},
   "outputs": [],
   "source": [
    "import os\n",
    "from obspy import read\n",
    "import pandas as pd\n",
    "import pyarrow as pa\n",
    "import pyarrow.parquet as pq\n",
    "import traceback\n",
    "\n",
    "def convert_file_to_parquet(input_file, output_file):\n",
    "    print(f\"Attempting to convert: {input_file}\")\n",
    "    try:\n",
    "        # Debug logging\n",
    "        print(f\"Input file: {input_file}\")\n",
    "        print(f\"Output file: {output_file}\")\n",
    "        print(f\"File exists: {os.path.exists(input_file)}\")\n",
    "        print(f\"Is file: {os.path.isfile(input_file)}\")\n",
    "        \n",
    "        # Check file contents\n",
    "        with open(input_file, 'rb') as f:\n",
    "            print(f\"File size: {os.path.getsize(input_file)} bytes\")\n",
    "            print(f\"First few bytes: {f.read(20)}\")\n",
    "        \n",
    "        # Read the file\n",
    "        st = read(input_file)\n",
    "        print(f\"Successfully read: {input_file}\")\n",
    "        \n",
    "        # Extract metadata\n",
    "        network = st[0].stats.network\n",
    "        station = st[0].stats.station\n",
    "        location = st[0].stats.location\n",
    "        channel = st[0].stats.channel\n",
    "        start_time = st[0].stats.starttime\n",
    "        end_time = st[0].stats.endtime\n",
    "        sampling_rate = st[0].stats.sampling_rate\n",
    "        \n",
    "        # Create DataFrame\n",
    "        df = pd.DataFrame({\n",
    "            'network': [network],\n",
    "            'station': [station],\n",
    "            'location': [location],\n",
    "            'channel': [channel],\n",
    "            'starttime': [start_time],\n",
    "            'endtime': [end_time],\n",
    "            'sampling_rate': [sampling_rate],\n",
    "            'data': [st[0].data]\n",
    "        })\n",
    "        \n",
    "        # Write to Parquet\n",
    "        table = pa.Table.from_pandas(df)\n",
    "        pq.write_file(table, output_file)\n",
    "        print(f\"Successfully converted: {input_file} -> {output_file}\")\n",
    "    except Exception as e:\n",
    "        print(f\"Error converting {input_file}: {str(e)}\")\n",
    "        print(f\"Traceback: {traceback.format_exc()}\")\n"
   ]
  }
 ],
 "metadata": {
  "kernelspec": {
   "display_name": "Python 3",
   "language": "python",
   "name": "python3"
  },
  "language_info": {
   "codemirror_mode": {
    "name": "ipython",
    "version": 3
   },
   "file_extension": ".py",
   "mimetype": "text/x-python",
   "name": "python",
   "nbconvert_exporter": "python",
   "pygments_lexer": "ipython3",
   "version": "3.12.7"
  }
 },
 "nbformat": 4,
 "nbformat_minor": 2
}
