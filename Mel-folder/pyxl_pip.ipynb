{
 "cells": [
  {
   "cell_type": "code",
   "execution_count": 1,
   "metadata": {},
   "outputs": [
    {
     "name": "stdout",
     "output_type": "stream",
     "text": [
      "Requirement already satisfied: openpyxl in /usr/local/lib/python3.12/site-packages (3.1.5)\n",
      "Requirement already satisfied: et-xmlfile in /usr/local/lib/python3.12/site-packages (from openpyxl) (2.0.0)\n",
      "\u001b[33mWARNING: Running pip as the 'root' user can result in broken permissions and conflicting behaviour with the system package manager, possibly rendering your system unusable.It is recommended to use a virtual environment instead: https://pip.pypa.io/warnings/venv. Use the --root-user-action option if you know what you are doing and want to suppress this warning.\u001b[0m\u001b[33m\n",
      "\u001b[0mNote: you may need to restart the kernel to use updated packages.\n"
     ]
    }
   ],
   "source": [
    "%pip install -U openpyxl"
   ]
  },
  {
   "cell_type": "code",
   "execution_count": 2,
   "metadata": {},
   "outputs": [],
   "source": [
    "import pandas as pd\n"
   ]
  },
  {
   "cell_type": "code",
   "execution_count": 3,
   "metadata": {},
   "outputs": [],
   "source": [
    "file_path = \"/notebooks/Mel-folder/Farnsworth Unit Data - 202102_FINAL.xlsx\"\n",
    "\n"
   ]
  },
  {
   "cell_type": "code",
   "execution_count": 4,
   "metadata": {},
   "outputs": [],
   "source": [
    "Farn_df = pd.read_excel(file_path, sheet_name=None)"
   ]
  },
  {
   "cell_type": "code",
   "execution_count": 5,
   "metadata": {},
   "outputs": [
    {
     "name": "stdout",
     "output_type": "stream",
     "text": [
      "Worksheets dict_keys(['SWP_Dashboard thru 2-28-2021', 'Daily Prod_Inj & Pressures', 'Monthly Prod_Inj', 'Well Tests', 'Downtimes', 'Water Meters', 'Gas Meters'])\n"
     ]
    }
   ],
   "source": [
    "print('Worksheets', Farn_df.keys())"
   ]
  },
  {
   "cell_type": "code",
   "execution_count": 6,
   "metadata": {},
   "outputs": [],
   "source": [
    "worksheets = list(Farn_df.keys())"
   ]
  },
  {
   "cell_type": "markdown",
   "metadata": {},
   "source": []
  },
  {
   "cell_type": "markdown",
   "metadata": {},
   "source": [
    "for sheet_name, sheet_df in all_sheets_df.items():\n",
    "        print(f\"Sheet name: {sheet_name}\")\n",
    "        print(sheet_df.head())"
   ]
  },
  {
   "cell_type": "code",
   "execution_count": 7,
   "metadata": {},
   "outputs": [],
   "source": [
    "# (variable) Worksheets: dict_keys[str, DataFrame]\n",
    "#worksheets = Farn_df.keys()\n",
    "#print(worksheets)"
   ]
  },
  {
   "cell_type": "code",
   "execution_count": 8,
   "metadata": {},
   "outputs": [
    {
     "name": "stdout",
     "output_type": "stream",
     "text": [
      "      Unit Name             API   District Field           Battery       Date  \\\n",
      "0  FWU #1 (WSW)  42357810690000  PANHANDLE   FWU  FARNSWORTH (INJ) 2019-06-01   \n",
      "1  FWU #1 (WSW)  42357810690000  PANHANDLE   FWU  FARNSWORTH (INJ) 2019-06-02   \n",
      "\n",
      "   Downtime  Operating Time  Allocated HCLiq  Allocated Gas  ...  \\\n",
      "0      24.0             0.0              0.0            0.0  ...   \n",
      "1      24.0             0.0              0.0            0.0  ...   \n",
      "\n",
      "   Casing Pressure  Flowline Pressure  Choke Size  Fluid Level Depth  \\\n",
      "0              NaN                NaN         NaN                NaN   \n",
      "1              NaN                NaN         NaN                NaN   \n",
      "\n",
      "   Gas-Free Fluid Level Above Pump  Fluid Level Above Pump  \\\n",
      "0                              NaN                     NaN   \n",
      "1                              NaN                     NaN   \n",
      "\n",
      "   Bottomhole Pressure  Unnamed: 21  Unnamed: 22  Unnamed: 23  \n",
      "0                  NaN          NaN          NaN          NaN  \n",
      "1                  NaN          NaN          NaN          NaN  \n",
      "\n",
      "[2 rows x 24 columns]\n"
     ]
    }
   ],
   "source": [
    "sheet_index = worksheets[1]  # Replace with the actual sheet name\n",
    "index_print = Farn_df[sheet_index]\n",
    "print(index_print.head(2))"
   ]
  },
  {
   "cell_type": "code",
   "execution_count": 12,
   "metadata": {},
   "outputs": [
    {
     "name": "stdout",
     "output_type": "stream",
     "text": [
      "SWP_Dashboard thru 2-28-2021\n",
      "Rows after filtering 'Date': 184\n",
      "--------------------------------------------------\n",
      "Daily Prod_Inj & Pressures\n",
      "Rows after filtering 'Date': 27416\n",
      "--------------------------------------------------\n",
      "Monthly Prod_Inj\n",
      "Rows after filtering 'Start Date': 895\n",
      "--------------------------------------------------\n",
      "Well Tests\n",
      "Rows after filtering 'Effective Date': 151\n",
      "--------------------------------------------------\n",
      "Downtimes\n",
      "Rows after filtering 'First Day': 146\n",
      "--------------------------------------------------\n",
      "Rows after filtering 'Last Day': 145\n",
      "--------------------------------------------------\n",
      "Water Meters\n",
      "Rows after filtering 'Date': 3060\n",
      "--------------------------------------------------\n",
      "Gas Meters\n",
      "Rows after filtering 'Date': 3615\n",
      "--------------------------------------------------\n"
     ]
    }
   ],
   "source": [
    "#Define the date range for filtering\n",
    "start_date = pd.to_datetime('2019-07-01')\n",
    "end_date = pd.to_datetime('2019-12-31')\n",
    "\n",
    "#Dictionary to store filtered data for each sheet\n",
    "filtered_data = {}\n",
    "\n",
    "#Loop through each sheet and apply filtering\n",
    "for sheet_index, df in Farn_df.items():\n",
    "    print(sheet_index)\n",
    "\n",
    "    # Loop through all datetime columns and apply date filter\n",
    "    for datetime_column in df.select_dtypes(include=['datetime64[ns]']).columns:\n",
    "        # Filter the rows based on the date range\n",
    "        filtered_df = df[(df[datetime_column] >= start_date) & (df[datetime_column] <= end_date)]\n",
    "\n",
    "        # Save the filtered dataframe into the dictionary\n",
    "        filtered_data[sheet_index] = filtered_df\n",
    "\n",
    "        # Output the shape of the filtered data\n",
    "        print(f\"Rows after filtering '{datetime_column}': {filtered_df.shape[0]}\")\n",
    "        print(\"-\" * 50)  # Separator\n",
    "        \n",
    "#filtered_data contains entire filtered DataFrame for each sheet"
   ]
  },
  {
   "cell_type": "code",
   "execution_count": null,
   "metadata": {},
   "outputs": [
    {
     "name": "stdout",
     "output_type": "stream",
     "text": [
      "Sheet: SWP_Dashboard thru 2-28-2021\n",
      "Columns: Date, Oil Production (bbls), Water Production (bbls), Water Injection (bbls), Arkalon CO2 (mcf), Borger CO2 (mcf), Recycle CO2 (mcf), Flare (mcf), External Sources (bbls), Total Injection (bbls)\n",
      "Rows: 184\n",
      "Columns: 10\n",
      "--------------------------------------------------\n",
      "Sheet: Daily Prod_Inj & Pressures\n",
      "Columns: Unit Name, API, District, Field, Battery, Date, Downtime, Operating Time, Allocated HCLiq, Allocated Gas, Allocated Water, Injection Well - Gas, Injection Well - Water, Tubing Pressure, Casing Pressure, Flowline Pressure, Choke Size, Fluid Level Depth, Gas-Free Fluid Level Above Pump, Fluid Level Above Pump, Bottomhole Pressure, Unnamed: 21, Unnamed: 22, Unnamed: 23\n",
      "Rows: 27416\n",
      "Columns: 24\n",
      "--------------------------------------------------\n",
      "Sheet: Monthly Prod_Inj\n",
      "Columns: Unit Name, API, District, Field, Battery, Start Date, Downtime, Operating Time, Allocated HCLiq, Allocated Gas, Allocated Water, Injection Well - Gas, Injection Well - Water\n",
      "Rows: 895\n",
      "Columns: 13\n",
      "--------------------------------------------------\n",
      "Sheet: Well Tests\n",
      "Columns: Unit Name, Type, Effective Date, Gas Volume Override, Recovered Lift Gas, Oil/Emulsion Volume Override, Water Volume Override, Gas Oil Ratio, Change in Oil/Emulsion Rate, % Change in Oil/Emulsion Rate, Change in Gas Rate, % Change in Gas Rate, Change in Water Rate, % Change in Water Rate, Change in GOR, % Change in GOR\n",
      "Rows: 151\n",
      "Columns: 16\n",
      "--------------------------------------------------\n",
      "Sheet: Downtimes\n",
      "Columns: Unit Name, Type of Downtime Entry, First Day, Downtime on First Day, Downtime Code 1, Last Day, Downtime on Last Day, Total Downtime, Unnamed: 8\n",
      "Rows: 145\n",
      "Columns: 9\n",
      "--------------------------------------------------\n",
      "Sheet: Water Meters\n",
      "Columns: Unit Name, Meter Name, Date, End Reading\n",
      "Rows: 3060\n",
      "Columns: 4\n",
      "--------------------------------------------------\n",
      "Sheet: Gas Meters\n",
      "Columns: Unit Name, Gas Meters, Date, Gas Volume\n",
      "Rows: 3615\n",
      "Columns: 4\n",
      "--------------------------------------------------\n"
     ]
    }
   ],
   "source": [
    "#Loop through the filtered_data dictionary to output each sheet's column names and count, and row count\n",
    "for sheet_index, filtered_df in filtered_data.items():\n",
    "    print(f\"Sheet: {sheet_index}\")\n",
    "    print(f\"Columns: {', '.join(filtered_df.columns)}\")  # List of columns\n",
    "    print(f\"Rows: {filtered_df.shape[0]}\")  # Number of rows\n",
    "    print(f\"Columns: {filtered_df.shape[1]}\")  # Number of columns\n",
    "    print(\"-\" * 50)  # Separator\n",
    "\n",
    "#Sheet: SWP_Dashboard thru 2-28-2021\n",
    "#Columns: Date, Oil Production (bbls), Water Production (bbls), Water Injection (bbls), Arkalon CO2 (mcf), Borger CO2 (mcf), Recycle CO2 (mcf), Flare (mcf), External Sources (bbls), Total Injection (bbls)\n",
    "#Rows: 184\n",
    "#Columns: 10"
   ]
  }
 ],
 "metadata": {
  "kernelspec": {
   "display_name": "Python 3",
   "language": "python",
   "name": "python3"
  },
  "language_info": {
   "codemirror_mode": {
    "name": "ipython",
    "version": 3
   },
   "file_extension": ".py",
   "mimetype": "text/x-python",
   "name": "python",
   "nbconvert_exporter": "python",
   "pygments_lexer": "ipython3",
   "version": "3.12.7"
  }
 },
 "nbformat": 4,
 "nbformat_minor": 2
}
