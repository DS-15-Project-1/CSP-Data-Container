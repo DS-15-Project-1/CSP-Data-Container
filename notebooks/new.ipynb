{
 "cells": [
  {
   "cell_type": "code",
   "execution_count": 12,
   "metadata": {},
   "outputs": [
    {
     "ename": "ModuleNotFoundError",
     "evalue": "No module named 'obspy'",
     "output_type": "error",
     "traceback": [
      "\u001b[0;31m---------------------------------------------------------------------------\u001b[0m",
      "\u001b[0;31mModuleNotFoundError\u001b[0m                       Traceback (most recent call last)",
      "Cell \u001b[0;32mIn[12], line 3\u001b[0m\n\u001b[1;32m      1\u001b[0m \u001b[38;5;28;01mimport\u001b[39;00m \u001b[38;5;21;01mos\u001b[39;00m\n\u001b[1;32m      2\u001b[0m \u001b[38;5;28;01mimport\u001b[39;00m \u001b[38;5;21;01msys\u001b[39;00m\n\u001b[0;32m----> 3\u001b[0m \u001b[38;5;28;01mfrom\u001b[39;00m \u001b[38;5;21;01mobspy\u001b[39;00m \u001b[38;5;28;01mimport\u001b[39;00m read\n\u001b[1;32m      4\u001b[0m \u001b[38;5;28;01mimport\u001b[39;00m \u001b[38;5;21;01mpandas\u001b[39;00m \u001b[38;5;28;01mas\u001b[39;00m \u001b[38;5;21;01mpd\u001b[39;00m\n\u001b[1;32m      5\u001b[0m \u001b[38;5;28;01mimport\u001b[39;00m \u001b[38;5;21;01mpyarrow\u001b[39;00m \u001b[38;5;28;01mas\u001b[39;00m \u001b[38;5;21;01mpa\u001b[39;00m\n",
      "\u001b[0;31mModuleNotFoundError\u001b[0m: No module named 'obspy'"
     ]
    }
   ],
   "source": [
    "import os\n",
    "import sys\n",
    "from obspy import read\n",
    "import pandas as pd\n",
    "import pyarrow as pa\n",
    "import pyarrow.parquet as pq\n",
    "import numpy as np\n",
    "import logging\n",
    "\n",
    "logging.basicConfig(level=logging.INFO)\n",
    "logger = logging.getLogger(__name__)\n",
    "\n",
    "def process_miniseed_file(file_path, output_directory):\n",
    "    try:\n",
    "        stream = read(file_path)\n",
    "        for trace in stream:\n",
    "            data = trace.data\n",
    "            sampling_rate = trace.stats.sampling_rate\n",
    "            start_time = trace.stats.starttime\n",
    "            end_time = trace.stats.endtime\n",
    "            channel = trace.stats.channel\n",
    "            station = trace.stats.station\n",
    "            network = trace.stats.network\n",
    "            location = trace.stats.location\n",
    "\n",
    "            time_array = pd.date_range(start_time.datetime, end_time.datetime, periods=len(data))\n",
    "\n",
    "            df = pd.DataFrame({\n",
    "                'time': time_array,\n",
    "                'data': data,\n",
    "                'sampling_rate': sampling_rate,\n",
    "                'channel': channel,\n",
    "                'station': station,\n",
    "                'network': network,\n",
    "                'location': location\n",
    "            })\n",
    "\n",
    "            scaling_factor = trace.stats.calib\n",
    "            if scaling_factor != 1.0:\n",
    "                df['scaled_data'] = df['data'] * scaling_factor\n",
    "\n",
    "            base_name = f\"{network}_{station}_{location}_{channel}_{start_time.strftime('%Y%m%d_%H%M%S')}\"\n",
    "            output_parquet_file = os.path.join(output_directory, f\"{base_name}.parquet\")\n",
    "\n",
    "            table = pa.Table.from_pandas(df)\n",
    "            pq.write_file(table, output_parquet_file)\n",
    "\n",
    "            logger.info(f\"Processed and saved: {output_parquet_file}\")\n",
    "\n",
    "    except Exception as e:\n",
    "        logger.error(f\"Error processing file {file_path}: {str(e)}\")\n",
    "\n",
    "def main(input_directory, output_directory):\n",
    "    for filename in os.listdir(input_directory):\n",
    "        if filename.endswith(\".mseed\"):\n",
    "            file_path = os.path.join(input_directory, filename)\n",
    "            process_miniseed_file(file_path, output_directory)\n",
    "\n",
    "if __name__ == \"__main__\":\n",
    "    if len(sys.argv) != 3:\n",
    "        logger.error(\"Usage: python main.py <input_directory> <output_directory>\")\n",
    "        sys.exit(1)\n",
    "\n",
    "    input_directory = sys.argv[1]\n",
    "    output_directory = sys.argv[2]\n",
    "    main(input_directory, output_directory)\n"
   ]
  }
 ],
 "metadata": {
  "kernelspec": {
   "display_name": "Python 3",
   "language": "python",
   "name": "python3"
  },
  "language_info": {
   "codemirror_mode": {
    "name": "ipython",
    "version": 3
   },
   "file_extension": ".py",
   "mimetype": "text/x-python",
   "name": "python",
   "nbconvert_exporter": "python",
   "pygments_lexer": "ipython3",
   "version": "3.12.7"
  }
 },
 "nbformat": 4,
 "nbformat_minor": 2
}
