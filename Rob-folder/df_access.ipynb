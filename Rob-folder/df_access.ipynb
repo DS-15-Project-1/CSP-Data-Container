{
 "cells": [
  {
   "cell_type": "code",
   "execution_count": null,
   "metadata": {},
   "outputs": [
    {
     "name": "stdout",
     "output_type": "stream",
     "text": [
      "\n",
      "Total number of files found: 65\n",
      "\n",
      "Found 65 files in /mnt/f/parquet/ZZ/FWU1/HHE.D\n",
      "Batch 1 processed.\n"
     ]
    },
    {
     "ename": "",
     "evalue": "",
     "output_type": "error",
     "traceback": [
      "\u001b[1;31mThe Kernel crashed while executing code in the current cell or a previous cell. \n",
      "\u001b[1;31mPlease review the code in the cell(s) to identify a possible cause of the failure. \n",
      "\u001b[1;31mClick <a href='https://aka.ms/vscodeJupyterKernelCrash'>here</a> for more info. \n",
      "\u001b[1;31mView Jupyter <a href='command:jupyter.viewOutput'>log</a> for further details."
     ]
    }
   ],
   "source": [
    "import os\n",
    "import dask.dataframe as dd\n",
    "from dask.distributed import Client\n",
    "import concurrent.futures\n",
    "import psutil\n",
    "import pandas as pd\n",
    "\n",
    "def log_memory_usage():\n",
    "    process = psutil.Process(os.getpid())\n",
    "    mem_info = process.memory_info()\n",
    "    print(f\"Memory usage: {mem_info.rss / (1024 * 1024):.2f} MB\")\n",
    "\n",
    "def read_parquet_file(filepath):\n",
    "    return dd.read_parquet(filepath, engine='pyarrow')\n",
    "\n",
    "def read_and_merge_parquet_files(directory):\n",
    "    log_memory_usage()\n",
    "\n",
    "    # Initialize Dask client\n",
    "    client = Client(n_workers=12, threads_per_worker=1)\n",
    "\n",
    "    # Get all parquet files\n",
    "    files = [os.path.join(directory, f) for f in os.listdir(directory) if f.endswith('.parquet')]\n",
    "\n",
    "    # Read files in parallel\n",
    "    with concurrent.futures.ThreadPoolExecutor(max_workers=12) as executor:\n",
    "        futures = [executor.submit(read_parquet_file, file) for file in files]\n",
    "        dfs = [future.result() for future in concurrent.futures.as_completed(futures)]\n",
    "\n",
    "    # Concatenate DataFrames\n",
    "    result_df = dd.concat(dfs, axis=0).persist()\n",
    "\n",
    "    log_memory_usage()\n",
    "\n",
    "    # Compute the result\n",
    "    result_df = result_df.compute()\n",
    "\n",
    "    client.close()\n",
    "\n",
    "    log_memory_usage()\n",
    "\n",
    "    return result_df\n",
    "\n",
    "def main():\n",
    "    directory = '/mnt/f/parquet/ZZ/FWU1/HHE.D'\n",
    "    merged_dataframe = read_and_merge_parquet_files(directory)\n",
    "\n",
    "    if merged_dataframe is not None:\n",
    "        print(\"Merged DataFrame shape:\", merged_dataframe.shape)\n",
    "        print(\"\\nDataFrame Information:\")\n",
    "        print(merged_dataframe.info())\n",
    "        print(merged_dataframe.head())\n",
    "        print(merged_dataframe.tail())\n",
    "\n",
    "        print(\"\\nData Statistics:\")\n",
    "        print(merged_dataframe.describe())\n",
    "    else:\n",
    "        print(\"Failed to merge DataFrames.\")\n",
    "\n",
    "if __name__ == \"__main__\":\n",
    "    main()"
   ]
  }
 ],
 "metadata": {
  "kernelspec": {
   "display_name": "Python 3",
   "language": "python",
   "name": "python3"
  },
  "language_info": {
   "codemirror_mode": {
    "name": "ipython",
    "version": 3
   },
   "file_extension": ".py",
   "mimetype": "text/x-python",
   "name": "python",
   "nbconvert_exporter": "python",
   "pygments_lexer": "ipython3",
   "version": "3.12.3"
  }
 },
 "nbformat": 4,
 "nbformat_minor": 2
}
