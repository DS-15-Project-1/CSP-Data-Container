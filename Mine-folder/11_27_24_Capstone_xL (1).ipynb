{
 "cells": [
  {
   "cell_type": "markdown",
   "metadata": {
    "id": "XpTpxR-fE5xw"
   },
   "source": [
    "11/26/24 Capstone Team Meeting\n",
    "\n",
    "Farnsworth Unit Data - 202102_FINAL\n",
    "file path=\n",
    "\"C:\\Users\\minef\\OneDrive\\Desktop\\Farnsworth Unit Data - 202102_FINAL.xlsx\""
   ]
  },
  {
   "cell_type": "markdown",
   "metadata": {
    "id": "aKeAhes_R5CK"
   },
   "source": [
    "## Step 1 Load data"
   ]
  },
  {
   "cell_type": "code",
   "execution_count": null,
   "metadata": {},
   "outputs": [],
   "source": [
    "%pip install -U openpyxl"
   ]
  },
  {
   "cell_type": "code",
   "execution_count": null,
   "metadata": {
    "id": "BmtQorSkTlRy"
   },
   "outputs": [],
   "source": [
    "import pandas as pd\n",
    "import numpy as np\n",
    "import pickle\n",
    "import os\n",
    "import openpyxl"
   ]
  },
  {
   "cell_type": "code",
   "execution_count": null,
   "metadata": {
    "id": "BmDS0LytWNfp"
   },
   "outputs": [],
   "source": [
    "# Define paths for the Excel file and the Pickle file\n",
    "excel_file_path = '/notebooks/Mine-folder/Farnsworth Unit Data - 202102_FINAL_copy.xlsx'\n",
    "pickle_file_path = 'co2_exl_pikl'"
   ]
  },
  {
   "cell_type": "code",
<<<<<<< Updated upstream:Mine-folder/11_27_24_Capstone_xL (1).ipynb
   "execution_count": 4,
=======
   "execution_count": null,
   "metadata": {},
   "outputs": [],
   "source": [
    "ls -la\n"
   ]
  },
  {
   "cell_type": "code",
   "execution_count": null,
>>>>>>> Stashed changes:Mine-folder/11_27_24_Capstone_xL.ipynb
   "metadata": {
    "colab": {
     "base_uri": "https://localhost:8080/"
    },
    "id": "3-oVUWmsWRxJ",
    "outputId": "37718679-471a-468b-affa-6765c46b8241"
   },
   "outputs": [],
   "source": [
    "# Check if Pickle file exists\n",
    "if os.path.exists(pickle_file_path):\n",
    "    # If Pickle file exists, load it\n",
    "    with open(pickle_file_path, 'rb') as f:\n",
    "        excel_data = pickle.load(f)\n",
    "    print(\"Loaded data from Pickle file.\")\n",
    "else:\n",
    "    # If Pickle file doesn't exist, read Excel file & pickle data\n",
    "    # Read all sheets from excel file into a dictionary of dataframes.\n",
    "    excel_data = pd.read_excel(excel_file_path, sheet_name=None)\n",
    "\n",
    "    # Save the dictionary of dataframes to a pickle file.\n",
    "    with open(pickle_file_path, 'wb') as f:\n",
    "        pickle.dump(excel_data, f)\n",
    "    print(f\"Excel data saved to: {pickle_file_path}\")"
   ]
  },
  {
   "cell_type": "code",
<<<<<<< Updated upstream:Mine-folder/11_27_24_Capstone_xL (1).ipynb
   "execution_count": 5,
=======
   "execution_count": null,
>>>>>>> Stashed changes:Mine-folder/11_27_24_Capstone_xL.ipynb
   "metadata": {
    "colab": {
     "base_uri": "https://localhost:8080/"
    },
    "id": "kPCoj7T_ZKJZ",
    "outputId": "c3aca49e-1aee-4aa7-92c6-98c89803b428"
   },
<<<<<<< Updated upstream:Mine-folder/11_27_24_Capstone_xL (1).ipynb
   "outputs": [
    {
     "name": "stdout",
     "output_type": "stream",
     "text": [
      "Sheet names: dict_keys(['SWP_Dashboard thru 2-28-2021', 'Daily Prod_Inj & Pressures', 'Monthly Prod_Inj', 'Well Tests', 'Downtimes', 'Water Meters', 'Gas Meters', 'SWP_Dashboard_July_Dec_2019', 'Sheet1', 'Sheet4', 'Sheet5'])\n"
     ]
    }
   ],
=======
   "outputs": [],
>>>>>>> Stashed changes:Mine-folder/11_27_24_Capstone_xL.ipynb
   "source": [
    "# Access sheet names from loaded data (Pickle or freshly loaded Excel)\n",
    "sheet_names = excel_data.keys()\n",
    "\n",
    "# Print sheet names to confirm\n",
    "print(\"Sheet names:\", sheet_names)"
   ]
  },
  {
   "cell_type": "markdown",
   "metadata": {
    "id": "nkJJtIy8R9r0"
   },
   "source": [
    "## Step 2 Analyze worksheets in workbook"
   ]
  },
  {
   "cell_type": "code",
<<<<<<< Updated upstream:Mine-folder/11_27_24_Capstone_xL (1).ipynb
   "execution_count": 6,
=======
   "execution_count": null,
>>>>>>> Stashed changes:Mine-folder/11_27_24_Capstone_xL.ipynb
   "metadata": {
    "colab": {
     "base_uri": "https://localhost:8080/"
    },
    "id": "zgk3yQxrZia-",
    "outputId": "d2be9ec9-5fa3-4440-9a1c-b61bced672a4"
   },
<<<<<<< Updated upstream:Mine-folder/11_27_24_Capstone_xL (1).ipynb
   "outputs": [
    {
     "name": "stdout",
     "output_type": "stream",
     "text": [
      "Worksheet: SWP_Dashboard thru 2-28-2021\n",
      "\n",
      "                         Null Counts       Data Type\n",
      "Date                               0  datetime64[ns]\n",
      "Oil Production (bbls)              0         float64\n",
      "Water Production (bbls)            0         float64\n",
      "Water Injection (bbls)             0         float64\n",
      "Arkalon CO2 (mcf)                 19         float64\n",
      "Borger CO2 (mcf)                1035         float64\n",
      "Recycle CO2 (mcf)                  0         float64\n",
      "Flare (mcf)                       19         float64\n",
      "External Sources (bbls)         1216         float64\n",
      "Total Injection (bbls)          1216         float64\n",
      "\n",
      "Total rows: 2528\n",
      "Total columns: 10\n",
      "Total Nulls in Worksheet: 3505\n",
      "--------------------------------------------------\n",
      "Worksheet: Daily Prod_Inj & Pressures\n",
      "\n",
      "                                 Null Counts       Data Type\n",
      "Unit Name                                  0          object\n",
      "API                                        0           int64\n",
      "District                                   0          object\n",
      "Field                                  20453          object\n",
      "Battery                                    0          object\n",
      "Date                                       0  datetime64[ns]\n",
      "Downtime                                   0         float64\n",
      "Operating Time                             0         float64\n",
      "Allocated HCLiq                        38340         float64\n",
      "Allocated Gas                          38340         float64\n",
      "Allocated Water                        38340         float64\n",
      "Injection Well - Gas                   57052         float64\n",
      "Injection Well - Water                 57052         float64\n",
      "Tubing Pressure                        58869         float64\n",
      "Casing Pressure                        58875         float64\n",
      "Flowline Pressure                      62166         float64\n",
      "Choke Size                             64081         float64\n",
      "Fluid Level Depth                      95131         float64\n",
      "Gas-Free Fluid Level Above Pump        95131         float64\n",
      "Fluid Level Above Pump                 95131         float64\n",
      "Bottomhole Pressure                    88022         float64\n",
      "Unnamed: 21                            94380         float64\n",
      "Unnamed: 22                            94380         float64\n",
      "Unnamed: 23                            95370          object\n",
      "\n",
      "Total rows: 95392\n",
      "Total columns: 24\n",
      "Total Nulls in Worksheet: 1151113\n",
      "--------------------------------------------------\n",
      "Worksheet: Monthly Prod_Inj\n",
      "\n",
      "                        Null Counts       Data Type\n",
      "Unit Name                         0          object\n",
      "API                               0           int64\n",
      "District                          0          object\n",
      "Field                             0          object\n",
      "Battery                           0          object\n",
      "Start Date                        0  datetime64[ns]\n",
      "Downtime                          0         float64\n",
      "Operating Time                    0         float64\n",
      "Allocated HCLiq                1260         float64\n",
      "Allocated Gas                  1260         float64\n",
      "Allocated Water                1260         float64\n",
      "Injection Well - Gas           1876         float64\n",
      "Injection Well - Water         1876         float64\n",
      "\n",
      "Total rows: 3136\n",
      "Total columns: 13\n",
      "Total Nulls in Worksheet: 7532\n",
      "--------------------------------------------------\n",
      "Worksheet: Well Tests\n",
      "\n",
      "                               Null Counts       Data Type\n",
      "Unit Name                                0          object\n",
      "Type                                     0          object\n",
      "Effective Date                           0  datetime64[ns]\n",
      "Gas Volume Override                     17         float64\n",
      "Recovered Lift Gas                     707         float64\n",
      "Oil/Emulsion Volume Override            19         float64\n",
      "Water Volume Override                   17         float64\n",
      "Gas Oil Ratio                           36         float64\n",
      "Change in Oil/Emulsion Rate             84         float64\n",
      "% Change in Oil/Emulsion Rate           94         float64\n",
      "Change in Gas Rate                      84         float64\n",
      "% Change in Gas Rate                   129         float64\n",
      "Change in Water Rate                    84         float64\n",
      "% Change in Water Rate                 104         float64\n",
      "Change in GOR                          145         float64\n",
      "% Change in GOR                        145         float64\n",
      "\n",
      "Total rows: 780\n",
      "Total columns: 16\n",
      "Total Nulls in Worksheet: 1665\n",
      "--------------------------------------------------\n",
      "Worksheet: Downtimes\n",
      "\n",
      "                        Null Counts       Data Type\n",
      "Unit Name                         0          object\n",
      "Type of Downtime Entry            0          object\n",
      "First Day                         0  datetime64[ns]\n",
      "Downtime on First Day            78         float64\n",
      "Downtime Code 1                  24          object\n",
      "Last Day                        108  datetime64[ns]\n",
      "Downtime on Last Day            679         float64\n",
      "Total Downtime                  148         float64\n",
      "Unnamed: 8                      670          object\n",
      "\n",
      "Total rows: 690\n",
      "Total columns: 9\n",
      "Total Nulls in Worksheet: 1707\n",
      "--------------------------------------------------\n",
      "Worksheet: Water Meters\n",
      "\n",
      "             Null Counts       Data Type\n",
      "Unit Name              0          object\n",
      "Meter Name             0          object\n",
      "Date                   0  datetime64[ns]\n",
      "End Reading            9         float64\n",
      "\n",
      "Total rows: 9130\n",
      "Total columns: 4\n",
      "Total Nulls in Worksheet: 9\n",
      "--------------------------------------------------\n",
      "Worksheet: Gas Meters\n",
      "\n",
      "            Null Counts       Data Type\n",
      "Unit Name             0          object\n",
      "Gas Meters            0          object\n",
      "Date                  0  datetime64[ns]\n",
      "Gas Volume            9         float64\n",
      "\n",
      "Total rows: 9918\n",
      "Total columns: 4\n",
      "Total Nulls in Worksheet: 9\n",
      "--------------------------------------------------\n",
      "Worksheet: SWP_Dashboard_July_Dec_2019\n",
      "\n",
      "                         Null Counts       Data Type\n",
      "Date                               0  datetime64[ns]\n",
      "Oil Production (bbls)              0         float64\n",
      "Water Production (bbls)            0         float64\n",
      "Water Injection (bbls)             0         float64\n",
      "Arkalon CO2 (mcf)                 19         float64\n",
      "Borger CO2 (mcf)                1035         float64\n",
      "Recycle CO2 (mcf)                  0         float64\n",
      "Flare (mcf)                       19         float64\n",
      "External Sources (bbls)         1216         float64\n",
      "Total Injection (bbls)          1216         float64\n",
      "Unnamed: 10                     2528         float64\n",
      "Unnamed: 11                     2496          object\n",
      "\n",
      "Total rows: 2528\n",
      "Total columns: 12\n",
      "Total Nulls in Worksheet: 8529\n",
      "--------------------------------------------------\n",
      "Worksheet: Sheet1\n",
      "\n",
      "      Null Counts Data Type\n",
      "Date           11    object\n",
      "All            11    object\n",
      "\n",
      "Total rows: 20\n",
      "Total columns: 2\n",
      "Total Nulls in Worksheet: 22\n",
      "--------------------------------------------------\n",
      "Worksheet: Sheet4\n",
      "\n",
      "                   Null Counts Data Type\n",
      "Start Date (Year)           13    object\n",
      "All                         12    object\n",
      "Unnamed: 2                  30   float64\n",
      "Unnamed: 3                  21    object\n",
      "Unnamed: 4                  21    object\n",
      "Unnamed: 5                  29    object\n",
      "\n",
      "Total rows: 30\n",
      "Total columns: 6\n",
      "Total Nulls in Worksheet: 126\n",
      "--------------------------------------------------\n",
      "Worksheet: Sheet5\n",
      "\n",
      "Empty DataFrame\n",
      "Columns: [Null Counts, Data Type]\n",
      "Index: []\n",
      "\n",
      "Total rows: 0\n",
      "Total columns: 0\n",
      "Total Nulls in Worksheet: 0.0\n",
      "--------------------------------------------------\n"
     ]
    }
   ],
=======
   "outputs": [],
>>>>>>> Stashed changes:Mine-folder/11_27_24_Capstone_xL.ipynb
   "source": [
    "# Iterate through each sheet and perform analysis\n",
    "for sheet_name, df in excel_data.items():\n",
    "    num_rows, num_cols = df.shape\n",
    "\n",
    "    # Calculate total nulls for the entire worksheet\n",
    "    total_nulls = df.isnull().sum().sum()\n",
    "\n",
    "    # Null counts and data types per column\n",
    "    null_counts = df.isnull().sum()\n",
    "    dtypes = df.dtypes\n",
    "\n",
    "    # Combine null counts and data types into a DataFrame\n",
    "    null_dtypes_df = pd.DataFrame({'Null Counts': null_counts, 'Data Type': dtypes})\n",
    "\n",
    "    print(f\"Worksheet: {sheet_name}\\n\")\n",
    "      # print(\"Null counts and data types per column:\")\n",
    "    print(null_dtypes_df)  # Print the DataFrame with null counts and data types\n",
    "    print(f\"\\nTotal rows: {num_rows}\")\n",
    "    print(f\"Total columns: {num_cols}\")\n",
    "    print(f\"Total Nulls in Worksheet: {total_nulls}\")\n",
    "    print(\"-\" * 50)  # Separator\n",
    "\n",
    "\n",
    "# Worksheet: SWP_Dashboard thru 2-28-2021\n",
    "\n",
    "#                          Null Counts       Data Type\n",
    "# Date                               0  datetime64[ns]\n",
    "# Oil Production (bbls)              0         float64\n",
    "# Water Production (bbls)            0         float64\n",
    "# Water Injection (bbls)             0         float64\n",
    "# Arkalon CO2 (mcf)                 19         float64\n",
    "# Borger CO2 (mcf)                1035         float64\n",
    "# Recycle CO2 (mcf)                  0         float64\n",
    "# Flare (mcf)                       19         float64\n",
    "# External Sources (bbls)         1216         float64\n",
    "# Total Injection (bbls)          1216         float64\n",
    "\n",
    "# Total rows: 2528\n",
    "# Total columns: 10\n",
    "# Total Nulls in Worksheet: 3505"
   ]
  },
  {
   "cell_type": "markdown",
   "metadata": {
    "id": "t4qrhVIoUgvD"
   },
   "source": [
    "## IMPORTANT NOTE\n",
    "ignore last worksheet SWP_Dashboard_July_Dec_2019-- i created that, it's a filtered copy of the first one\n",
    "\n",
    "Datetime column 'Date'\n",
    "First row: 2014-03-26 00:00:00\n",
    "Last row: 2021-02-28 00:00:00"
   ]
  },
  {
   "cell_type": "code",
<<<<<<< Updated upstream:Mine-folder/11_27_24_Capstone_xL (1).ipynb
   "execution_count": 7,
=======
   "execution_count": null,
>>>>>>> Stashed changes:Mine-folder/11_27_24_Capstone_xL.ipynb
   "metadata": {
    "colab": {
     "base_uri": "https://localhost:8080/"
    },
    "collapsed": true,
    "id": "NimNqN_LHmk0",
    "outputId": "a9185425-0799-452c-da68-af43666b08fe"
   },
<<<<<<< Updated upstream:Mine-folder/11_27_24_Capstone_xL (1).ipynb
   "outputs": [
    {
     "name": "stdout",
     "output_type": "stream",
     "text": [
      "SWP_Dashboard thru 2-28-2021\n",
      "Datetime column 'Date'\n",
      "First row: 2014-03-26 00:00:00\n",
      "Last row: 2021-02-28 00:00:00\n",
      "--------------------------------------------------\n",
      "Daily Prod_Inj & Pressures\n",
      "Datetime column 'Date'\n",
      "First row: 2019-06-01 00:00:00\n",
      "Last row: 2021-02-28 00:00:00\n",
      "--------------------------------------------------\n",
      "Monthly Prod_Inj\n",
      "Datetime column 'Start Date'\n",
      "First row: 2019-06-01 00:00:00\n",
      "Last row: 2021-02-01 00:00:00\n",
      "--------------------------------------------------\n",
      "Well Tests\n",
      "Datetime column 'Effective Date'\n",
      "First row: 2017-03-14 00:00:00\n",
      "Last row: 2021-03-01 00:00:00\n",
      "--------------------------------------------------\n",
      "Downtimes\n",
      "Datetime column 'First Day'\n",
      "First row: 2018-04-01 00:00:00\n",
      "Last row: 2021-03-08 00:00:00\n",
      "--------------------------------------------------\n",
      "Datetime column 'Last Day'\n",
      "First row: NaT\n",
      "Last row: NaT\n",
      "--------------------------------------------------\n",
      "Water Meters\n",
      "Datetime column 'Date'\n",
      "First row: 2018-04-01 00:00:00\n",
      "Last row: 2021-02-28 00:00:00\n",
      "--------------------------------------------------\n",
      "Gas Meters\n",
      "Datetime column 'Date'\n",
      "First row: 2018-04-01 00:00:00\n",
      "Last row: 2021-02-28 00:00:00\n",
      "--------------------------------------------------\n",
      "SWP_Dashboard_July_Dec_2019\n",
      "Datetime column 'Date'\n",
      "First row: 2014-03-26 00:00:00\n",
      "Last row: 2021-02-28 00:00:00\n",
      "--------------------------------------------------\n",
      "Sheet1\n",
      "Sheet4\n",
      "Sheet5\n"
     ]
    }
   ],
=======
   "outputs": [],
>>>>>>> Stashed changes:Mine-folder/11_27_24_Capstone_xL.ipynb
   "source": [
    "# Loop through each sheet to check for datetime columns\n",
    "for sheet_name, df in excel_data.items():\n",
    "    print(sheet_name)\n",
    "\n",
    "    # Check for datetime columns in each sheet\n",
    "    datetime_columns = df.select_dtypes(include=['datetime64[ns]']).columns\n",
    "\n",
    "    if len(datetime_columns) > 0:\n",
    "        # Display first and last datetime value for each datetime column\n",
    "        for datetime_column in datetime_columns:\n",
    "            first_datetime = df[datetime_column].iloc[0]\n",
    "            last_datetime = df[datetime_column].iloc[-1]\n",
    "            print(f\"Datetime column '{datetime_column}'\")\n",
    "            print(f\"First row: {first_datetime}\")\n",
    "            print(f\"Last row: {last_datetime}\")\n",
    "            print(\"-\" * 50)  # Separator\n",
    "\n",
    "# SWP_Dashboard thru 2-28-2021\n",
    "# Datetime column 'Date'\n",
    "# First row: 2014-03-26 00:00:00\n",
    "# Last row: 2021-02-28 00:00:00"
   ]
  },
  {
   "cell_type": "markdown",
   "metadata": {
    "id": "7uGpkF_NV4jQ"
   },
   "source": [
    "## Step 3 Create Dictionary with filtered_data\n",
    "filtered_data contains entire filtered DataFrame for each sheet for July 1, 2019 thru December 31, 2019"
   ]
  },
  {
   "cell_type": "code",
<<<<<<< Updated upstream:Mine-folder/11_27_24_Capstone_xL (1).ipynb
   "execution_count": 8,
=======
   "execution_count": null,
   "metadata": {},
   "outputs": [],
   "source": [
    " if not datetime_columns.empty:  # Check if there are any datetime columns\n",
    "        first_datetime_column = datetime_columns[0]  # Use the first datetime column\n",
    "\n",
    "        # Filter the rows based on the date range\n",
    "        filtered_df = df[(df[first_datetime_column] >= start_date) & (df[first_datetime_column] <= end_date)]\n",
    "\n",
    "        # Save the filtered dataframe into the dictionary\n",
    "        filtered_data[sheet_name] = filtered_df"
   ]
  },
  {
   "cell_type": "code",
   "execution_count": null,
>>>>>>> Stashed changes:Mine-folder/11_27_24_Capstone_xL.ipynb
   "metadata": {
    "colab": {
     "base_uri": "https://localhost:8080/"
    },
    "id": "iogisvsgTJEK",
    "outputId": "f5ab10e9-c8d0-4f73-b294-843fe15370a9"
   },
   "outputs": [
    {
     "name": "stdout",
     "output_type": "stream",
     "text": [
      "SWP_Dashboard thru 2-28-2021\n",
      "Rows after filtering 'Date': 184\n",
      "--------------------------------------------------\n",
      "Daily Prod_Inj & Pressures\n",
      "Rows after filtering 'Date': 27416\n",
      "--------------------------------------------------\n",
      "Monthly Prod_Inj\n",
      "Rows after filtering 'Start Date': 895\n",
      "--------------------------------------------------\n",
      "Well Tests\n",
      "Rows after filtering 'Effective Date': 151\n",
      "--------------------------------------------------\n",
      "Downtimes\n",
      "Rows after filtering 'First Day': 146\n",
      "--------------------------------------------------\n",
      "Rows after filtering 'Last Day': 145\n",
      "--------------------------------------------------\n",
      "Water Meters\n",
      "Rows after filtering 'Date': 3060\n",
      "--------------------------------------------------\n",
      "Gas Meters\n",
      "Rows after filtering 'Date': 3615\n",
      "--------------------------------------------------\n",
      "SWP_Dashboard_July_Dec_2019\n",
      "Rows after filtering 'Date': 184\n",
      "--------------------------------------------------\n",
      "Sheet1\n",
      "Sheet4\n",
      "Sheet5\n"
     ]
    }
   ],
   "source": [
    "# Define the date range for filtering\n",
    "start_date = pd.to_datetime('2019-07-01')\n",
    "end_date = pd.to_datetime('2019-12-31')\n",
    "\n",
    "# Dictionary to store filtered data for each sheet\n",
    "filtered_data = {}\n",
    "\n",
    "# Loop through each sheet and apply filtering\n",
    "for sheet_name, df in excel_data.items():\n",
    "    print(sheet_name)\n",
    "\n",
    "    # Loop through all datetime columns and apply date filter\n",
    "    for datetime_column in df.select_dtypes(include=['datetime64[ns]']).columns:\n",
    "        # Filter the rows based on the date range\n",
    "        filtered_df = df[(df[datetime_column] >= start_date) & (df[datetime_column] <= end_date)]\n",
    "\n",
    "        # Save the filtered dataframe into the dictionary\n",
    "        filtered_data[sheet_name] = filtered_df\n",
    "\n",
    "        # Output the shape of the filtered data\n",
    "        print(f\"Rows after filtering '{datetime_column}': {filtered_df.shape[0]}\")\n",
    "        print(\"-\" * 50)  # Separator\n",
    "\n",
    "#filtered_data contains entire filtered DataFrame for each sheet\n",
    "\n",
    "# SWP_Dashboard thru 2-28-2021\n",
    "# Rows after filtering 'Date': 184"
   ]
  },
  {
   "cell_type": "code",
   "execution_count": 9,
   "metadata": {
    "colab": {
     "base_uri": "https://localhost:8080/"
    },
    "collapsed": true,
    "id": "tuoYk6N-iLww",
    "outputId": "831e1a3e-ff20-4761-aeb2-d0c0fdb340f8"
   },
   "outputs": [
    {
     "name": "stdout",
     "output_type": "stream",
     "text": [
      "Sheet: SWP_Dashboard thru 2-28-2021\n",
      "Columns: Date, Oil Production (bbls), Water Production (bbls), Water Injection (bbls), Arkalon CO2 (mcf), Borger CO2 (mcf), Recycle CO2 (mcf), Flare (mcf), External Sources (bbls), Total Injection (bbls)\n",
      "Rows: 184\n",
      "Columns: 10\n",
      "--------------------------------------------------\n",
      "Sheet: Daily Prod_Inj & Pressures\n",
      "Columns: Unit Name, API, District, Field, Battery, Date, Downtime, Operating Time, Allocated HCLiq, Allocated Gas, Allocated Water, Injection Well - Gas, Injection Well - Water, Tubing Pressure, Casing Pressure, Flowline Pressure, Choke Size, Fluid Level Depth, Gas-Free Fluid Level Above Pump, Fluid Level Above Pump, Bottomhole Pressure, Unnamed: 21, Unnamed: 22, Unnamed: 23\n",
      "Rows: 27416\n",
      "Columns: 24\n",
      "--------------------------------------------------\n",
      "Sheet: Monthly Prod_Inj\n",
      "Columns: Unit Name, API, District, Field, Battery, Start Date, Downtime, Operating Time, Allocated HCLiq, Allocated Gas, Allocated Water, Injection Well - Gas, Injection Well - Water\n",
      "Rows: 895\n",
      "Columns: 13\n",
      "--------------------------------------------------\n",
      "Sheet: Well Tests\n",
      "Columns: Unit Name, Type, Effective Date, Gas Volume Override, Recovered Lift Gas, Oil/Emulsion Volume Override, Water Volume Override, Gas Oil Ratio, Change in Oil/Emulsion Rate, % Change in Oil/Emulsion Rate, Change in Gas Rate, % Change in Gas Rate, Change in Water Rate, % Change in Water Rate, Change in GOR, % Change in GOR\n",
      "Rows: 151\n",
      "Columns: 16\n",
      "--------------------------------------------------\n",
      "Sheet: Downtimes\n",
      "Columns: Unit Name, Type of Downtime Entry, First Day, Downtime on First Day, Downtime Code 1, Last Day, Downtime on Last Day, Total Downtime, Unnamed: 8\n",
      "Rows: 145\n",
      "Columns: 9\n",
      "--------------------------------------------------\n",
      "Sheet: Water Meters\n",
      "Columns: Unit Name, Meter Name, Date, End Reading\n",
      "Rows: 3060\n",
      "Columns: 4\n",
      "--------------------------------------------------\n",
      "Sheet: Gas Meters\n",
      "Columns: Unit Name, Gas Meters, Date, Gas Volume\n",
      "Rows: 3615\n",
      "Columns: 4\n",
      "--------------------------------------------------\n",
      "Sheet: SWP_Dashboard_July_Dec_2019\n",
      "Columns: Date, Oil Production (bbls), Water Production (bbls), Water Injection (bbls), Arkalon CO2 (mcf), Borger CO2 (mcf), Recycle CO2 (mcf), Flare (mcf), External Sources (bbls), Total Injection (bbls), Unnamed: 10, Unnamed: 11\n",
      "Rows: 184\n",
      "Columns: 12\n",
      "--------------------------------------------------\n"
     ]
    }
   ],
   "source": [
    "# Loop through the filtered_data dictionary to output each sheet's column names and count, and row count\n",
    "for sheet_name, filtered_df in filtered_data.items():\n",
    "    print(f\"Sheet: {sheet_name}\")\n",
    "    print(f\"Columns: {', '.join(filtered_df.columns)}\")  # List of columns\n",
    "    print(f\"Rows: {filtered_df.shape[0]}\")  # Number of rows\n",
    "    print(f\"Columns: {filtered_df.shape[1]}\")  # Number of columns\n",
    "    print(\"-\" * 50)  # Separator\n",
    "\n",
    "# Sheet: SWP_Dashboard thru 2-28-2021\n",
    "# Columns: Date, Oil Production (bbls), Water Production (bbls), Water Injection (bbls), Arkalon CO2 (mcf), Borger CO2 (mcf), Recycle CO2 (mcf), Flare (mcf), External Sources (bbls), Total Injection (bbls)\n",
    "# Rows: 184\n",
    "# Columns: 10"
   ]
  },
  {
   "cell_type": "code",
   "execution_count": 10,
   "metadata": {
    "colab": {
     "base_uri": "https://localhost:8080/"
    },
    "id": "UuyGiBdomC5q",
    "outputId": "d11029f1-d6a8-4232-ca96-66ec43c810d5"
   },
   "outputs": [
    {
     "name": "stdout",
     "output_type": "stream",
     "text": [
      "35650\n",
      "92\n"
     ]
    }
   ],
   "source": [
    "total_rows = sum(filtered_df.shape[0] for filtered_df in filtered_data.values())\n",
    "total_columns = sum(filtered_df.shape[1] for filtered_df in filtered_data.values())\n",
    "print(total_rows)\n",
    "print(total_columns)\n",
    "\n",
    "#35650\n",
    "#92"
   ]
  },
  {
   "cell_type": "code",
   "execution_count": 11,
   "metadata": {
    "colab": {
     "base_uri": "https://localhost:8080/"
    },
    "id": "B8z8WyLeUtoc",
    "outputId": "f050257c-5aa2-4bbc-9958-8709aa742f5f"
   },
   "outputs": [
    {
     "name": "stdout",
     "output_type": "stream",
     "text": [
      "35466\n"
     ]
    },
    {
     "data": {
      "text/plain": [
       "80"
      ]
     },
     "execution_count": 11,
     "metadata": {},
     "output_type": "execute_result"
    }
   ],
   "source": [
    "#Subtracted the last worksheet because it's a copy of the first sheet\n",
    "total_rows = 0\n",
    "total_columns = 0\n",
    "for sheet_name, filtered_df in filtered_data.items():\n",
    "    if sheet_name != \"SWP_Dashboard_July_Dec_2019\":  # Exclude the specified sheet\n",
    "        total_rows += filtered_df.shape[0]\n",
    "        total_columns += filtered_df.shape[1]\n",
    "\n",
    "print(total_rows)\n",
    "total_columns\n",
    "\n",
    "# 35466\n",
    "# 80"
   ]
  },
  {
   "cell_type": "markdown",
   "metadata": {
    "id": "WHbJ6lIEYfnm"
   },
   "source": [
    "## Step 4 Save data filtered for target dates as JSON file"
   ]
  },
  {
   "cell_type": "code",
   "execution_count": 12,
   "metadata": {
    "colab": {
     "base_uri": "https://localhost:8080/"
    },
    "id": "tEDXqHJeYY4W",
    "outputId": "61f0c937-76c9-4203-f888-586b760d8bd3"
   },
   "outputs": [
    {
     "name": "stdout",
     "output_type": "stream",
     "text": [
      "Filtered data saved to filter_exl.json\n"
     ]
    }
   ],
   "source": [
    "import json\n",
    "\n",
    "# Define path for JSON file\n",
    "json_file_path = 'filter_exl.json'\n",
    "\n",
    "# Step 4: Save the filtered data as a JSON file\n",
    "# Convert the filtered data dictionary to a JSON-compatible structure\n",
    "filtered_data_json = {\n",
    "    sheet: df.map(\n",
    "        lambda x: x.isoformat() if isinstance(x, pd.Timestamp) else x\n",
    "    ).to_dict(orient='records')\n",
    "    for sheet, df in filtered_data.items()\n",
    "}\n",
    "\n",
    "# Write the JSON file\n",
    "with open(json_file_path, 'w') as json_file:\n",
    "    json.dump(filtered_data_json, json_file, indent=4)\n",
    "\n",
    "print(f\"Filtered data saved to {json_file_path}\")\n"
   ]
  }
 ],
 "metadata": {
  "colab": {
   "provenance": []
  },
  "kernelspec": {
   "display_name": "Python 3",
   "name": "python3"
  },
  "language_info": {
   "codemirror_mode": {
    "name": "ipython",
    "version": 3
   },
   "file_extension": ".py",
   "mimetype": "text/x-python",
   "name": "python",
   "nbconvert_exporter": "python",
   "pygments_lexer": "ipython3",
   "version": "3.12.3"
  }
 },
 "nbformat": 4,
 "nbformat_minor": 0
}
