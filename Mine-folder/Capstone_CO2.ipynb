{
 "cells": [
  {
   "cell_type": "markdown",
   "metadata": {
    "id": "cJG_e1vK2NMI"
   },
   "source": [
    "#Capstone: CO2 Sequestration"
   ]
  },
  {
   "cell_type": "markdown",
   "metadata": {
    "id": "WfoRx76l0rbf"
   },
   "source": [
    "December 13, 2024"
   ]
  },
  {
   "cell_type": "markdown",
   "metadata": {
    "id": "eGoJg67E0pyf"
   },
   "source": [
    "Deep Dive Data Science Cohort 15\n",
    "Team\n",
    "* Robert Balch II\n",
    "* Minerva Franco IV\n",
    "* Melissa Franklin III"
   ]
  },
  {
   "cell_type": "markdown",
   "metadata": {
    "id": "Ugnt7mjT2Pyt"
   },
   "source": [
    "## Problem Definition\n"
   ]
  },
  {
   "cell_type": "markdown",
   "metadata": {
    "id": "DJB41zc-2q-w"
   },
   "source": [
    "State the business problem. Translate the business problem into a Data Science problem by stating what kind of problem it is ( supervised vs unsupervised ) and whether it is a classification, regression, or clustering problem."
   ]
  },
  {
   "cell_type": "markdown",
   "metadata": {
    "id": "8pmIg8Ij5Kc6"
   },
   "source": []
  },
  {
   "cell_type": "markdown",
   "metadata": {
    "id": "jaq46wHS2Uh1"
   },
   "source": [
    "## Data Collection/Sources\n"
   ]
  },
  {
   "cell_type": "markdown",
   "metadata": {
    "id": "qfwAfZdH28CM"
   },
   "source": [
    "##Data Acquisition"
   ]
  },
  {
   "cell_type": "markdown",
   "metadata": {
    "id": "iwIYmxG31S20"
   },
   "source": [
    "* Research on previous studies\n",
    " * cite\n",
    "* Excel workbook: Farnsworth Unit Data - 202102_FINAL\n",
    "  * 7 worksheets:\n",
    "  * Used #_ worksheets: _____, _____\n",
    "* GitHub Organization:\n",
    "  \n",
    "  4 Repositories\n",
    "  * CSE-Data-Container\n",
    "  * CSP-Data-Container\n",
    "  * co2-Sequestration-project\n",
    "    * entry\n",
    "    * entry\n",
    "  * CSE_Paramiko_Connection\n",
    "    * entry\n",
    "    * entry\n",
    "* VS Code\n",
    "  * Collaborative Coding\n",
    "  * Branches/folders\n",
    "* Miniseed files\n",
    "* CAMPD data set acquisition\n",
    "* ECMPS data aquistion\n",
    "* Languages:\n",
    "  * Python\n",
    "  * Jupyter Notebook\n",
    "  * Dockerfile\n",
    "* Meetings with SME\n",
    "  * #_\n",
    "* Group Meetings: #_\n",
    "\n",
    "*  \n",
    "* entry\n",
    "* entry\n",
    "* entry\n"
   ]
  },
  {
   "cell_type": "markdown",
   "metadata": {
    "id": "CtE4hXDr5PFv"
   },
   "source": [
    "1. Question asked of the data:\n",
    "  * What is the relationship between seismic events and CO2 injection during sequestration processes with new raw data from Permian Basin?\n",
    "\n",
    "* To address the primary environmental concern of the project:\n",
    "  * whether CO2 injection for sequestration causes seismic activity.\n",
    "\n",
    "2. To answer this:\n",
    "  *  Conduct time series analysis of miniseed seismic data and spatial correlation techniques to match seismic events (both downhole and surface) with CO2 injection events and determine if there is a statistically significant relationship between the two.\n",
    "  * Advanced data processing in Python, leveraging ObsPy for seismic data handling and other tools_______ for data integration, would be required to parse through large datasets efficiently and extract meaningful patterns.\n",
    "\n",
    "3. To provide insight into safety and stability of CO2 sequestration techniques, which is critical for scaling these technologies and ensuring they do not lead to unexpected seismic risks (e.g., induced earthquakes).\n",
    "\n",
    "\n"
   ]
  },
  {
   "cell_type": "markdown",
   "metadata": {
    "id": "kvTak8Ka2db2"
   },
   "source": [
    "## Data Cleaning\n"
   ]
  },
  {
   "cell_type": "code",
   "execution_count": null,
   "metadata": {
    "id": "k4Q6cbo42paj"
   },
   "outputs": [],
   "source": []
  },
  {
   "cell_type": "markdown",
   "metadata": {
    "id": "Gvh5r9Zs2fkc"
   },
   "source": [
    "## Exploratory Data Analysis\n"
   ]
  },
  {
   "cell_type": "code",
   "execution_count": null,
   "metadata": {
    "id": "2Efloab12ouN"
   },
   "outputs": [],
   "source": []
  },
  {
   "cell_type": "markdown",
   "metadata": {
    "id": "Ij_fgEbh2hVk"
   },
   "source": [
    "## Processing\n"
   ]
  },
  {
   "cell_type": "code",
   "execution_count": null,
   "metadata": {
    "id": "Z1w1e2SH2oOk"
   },
   "outputs": [],
   "source": []
  },
  {
   "cell_type": "markdown",
   "metadata": {
    "id": "gjDTKyc12jR7"
   },
   "source": [
    "## Data Visualization/Communication of Results\n"
   ]
  },
  {
   "cell_type": "code",
   "execution_count": null,
   "metadata": {
    "id": "IlNH7PFy2k9-"
   },
   "outputs": [],
   "source": []
  },
  {
   "cell_type": "code",
   "execution_count": null,
   "metadata": {
    "id": "UDreeeqb7RwF"
   },
   "outputs": [],
   "source": []
  },
  {
   "cell_type": "markdown",
   "metadata": {
    "id": "pGM_ZQOP7SCP"
   },
   "source": [
    "##References"
   ]
  },
  {
   "cell_type": "markdown",
   "metadata": {
    "id": "lMxFN2z57X6M"
   },
   "source": [
    "1. [CAMPD EPA Data Access Methods](https://github.com/DS-15-Project-1/co2-Sequestration-project/blob/main/Minerva_Group_Work/11_14_24_EPA_search)\n",
    "2. [GitHub: DS-15_Project-1](https://github.com/DS-15-Project-1 )\n",
    "3. [Data Extraction Protocol](https://github.com/DS-15-Project-1/co2-Sequestration-project/blob/main/README.md)\n",
    "4. [Brief Lit Review](https://github.com/DS-15-Project-1/CSP-Data-Container/blob/mine-branch/Mine-folder/Brief%20Literature%20Review.txt)\n",
    "5. reference\n",
    "6. reference\n",
    "7. reference\n",
    "8. reference\n",
    "9. reference\n",
    "10. reference\n",
    "11. https://campd.epa.gov/ [2] https://www.epa.gov/power-sector/cam-api-portal [3] https://campd.epa.gov/help-support/about [4] https://www.epa.gov/system/files/documents/2022-07/CAMD%27s%20Power%20Sector%20Emissions%20Data%20Guide%20-%2007182022.pdf [5] https://ecmps-beta.app.cloud.gov/ [6] https://www.epa.gov/power-sector/frequent-questions-about-capd-re-engineering-effort [7] https://ecmps.camdsupport.com/learn_intro.shtml [8] https://api.epa.gov/easey/beta/content-mgmt/ecmps/reporting-instructions/mp-reporting-instructions.docx [9] https://fa.oregonstate.edu/sites/fa.oregonstate.edu/files/budget/2014_chart_element_termination_form_with_lookup.xlsx [10] https://www.epa.gov/system/files/documents/2024-03/fy-2025-congressional-justification-all-tabs.pdf\n",
    "* entry"
   ]
  }
 ],
 "metadata": {
  "colab": {
   "provenance": [
    {
     "file_id": "19Rq7e_JTs8sGQvXcblrRO_IfkDT3voEB",
     "timestamp": 1733351811861
    }
   ],
   "toc_visible": true
  },
  "kernelspec": {
   "display_name": "Python 3",
   "name": "python3"
  },
  "language_info": {
   "name": "python",
   "version": "3.12.7"
  }
 },
 "nbformat": 4,
 "nbformat_minor": 0
}
