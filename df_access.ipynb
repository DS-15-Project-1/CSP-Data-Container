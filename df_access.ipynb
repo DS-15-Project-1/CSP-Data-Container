{
 "cells": [
  {
   "cell_type": "code",
   "execution_count": 1,
   "metadata": {},
   "outputs": [],
   "source": [
    "import os\n",
    "import pandas as pd\n",
    "import pyarrow.parquet as pq\n"
   ]
  },
  {
   "cell_type": "code",
   "execution_count": 2,
   "metadata": {},
   "outputs": [
    {
     "name": "stdout",
     "output_type": "stream",
     "text": [
      "No Parquet files found in /notebooks/output/\n"
     ]
    }
   ],
   "source": [
    "import os\n",
    "import pandas as pd\n",
    "import pyarrow.parquet as pq\n",
    "\n",
    "# Specify the base directory for your Parquet files\n",
    "base_directory = '/notebooks/output/'  # All output files will be in this path\n",
    "\n",
    "# Function to recursively find all Parquet files\n",
    "def find_parquet_files(directory):\n",
    "    parquet_files = []\n",
    "    for root, dirs, files in os.walk(directory):\n",
    "        for file in files:\n",
    "            if file.endswith('.parquet'):\n",
    "                parquet_files.append(os.path.join(root, file))\n",
    "    return parquet_files\n",
    "\n",
    "# Find all Parquet files in the directory structure\n",
    "parquet_files = find_parquet_files(base_directory)\n",
    "\n",
    "if not parquet_files:\n",
    "    print(f\"No Parquet files found in {base_directory}\")\n",
    "else:\n",
    "    print(f\"Found {len(parquet_files)} Parquet files in {base_directory}\")\n",
    "\n",
    "    # Read all Parquet files into a single DataFrame\n",
    "    dfs = []\n",
    "    for file in parquet_files:\n",
    "        try:\n",
    "            df = pd.read_parquet(file)\n",
    "            dfs.append(df)\n",
    "            # print(f\"Successfully read: {file}\")\n",
    "        except Exception as e:\n",
    "            print(f\"Error reading {file}: {str(e)}\")\n",
    "\n",
    "    # Combine all DataFrames\n",
    "    combined_df = pd.concat(dfs, ignore_index=True)\n",
    "    \n",
    "    # Display information about the combined DataFrame\n",
    "    print(\"\\nCombined DataFrame:\")\n",
    "    print(combined_df.info())\n",
    "    print(combined_df.head())\n",
    "    print(combined_df.tail())\n",
    "\n",
    "    # Print some statistics\n",
    "    print(\"\\nData statistics:\")\n",
    "    print(combined_df['data'].describe())\n"
   ]
  }
 ],
 "metadata": {
  "kernelspec": {
   "display_name": "Python 3",
   "language": "python",
   "name": "python3"
  },
  "language_info": {
   "codemirror_mode": {
    "name": "ipython",
    "version": 3
   },
   "file_extension": ".py",
   "mimetype": "text/x-python",
   "name": "python",
   "nbconvert_exporter": "python",
   "pygments_lexer": "ipython3",
   "version": "3.12.7"
  }
 },
 "nbformat": 4,
 "nbformat_minor": 4
}
